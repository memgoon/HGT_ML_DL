{
 "cells": [
  {
   "cell_type": "code",
   "execution_count": 19,
   "metadata": {},
   "outputs": [],
   "source": [
    "import pandas as pd\n",
    "import numpy as np\n",
    "import matplotlib.pyplot as plt\n",
    "from matplotlib.colors import ListedColormap\n",
    "from sklearn.model_selection import train_test_split\n",
    "from sklearn.preprocessing import StandardScaler\n",
    "from sklearn.datasets import make_moons, make_circles, make_classification\n",
    "from sklearn.neural_network import MLPClassifier\n",
    "from sklearn.neighbors import KNeighborsClassifier\n",
    "from sklearn.svm import SVC\n",
    "from sklearn.gaussian_process import GaussianProcessClassifier\n",
    "from sklearn.gaussian_process.kernels import RBF\n",
    "from sklearn.tree import DecisionTreeClassifier\n",
    "from sklearn.ensemble import RandomForestClassifier, AdaBoostClassifier\n",
    "from sklearn.naive_bayes import GaussianNB\n",
    "from sklearn.discriminant_analysis import QuadraticDiscriminantAnalysis\n",
    "from sklearn.discriminant_analysis import LinearDiscriminantAnalysis\n",
    "from sklearn.linear_model import LogisticRegression"
   ]
  },
  {
   "cell_type": "code",
   "execution_count": 2,
   "metadata": {},
   "outputs": [],
   "source": [
    "X, y = make_classification(n_features=2, n_redundant=0, n_informative=2,\n",
    "                           random_state=1, n_clusters_per_class=1)"
   ]
  },
  {
   "cell_type": "code",
   "execution_count": null,
   "metadata": {
    "scrolled": true
   },
   "outputs": [],
   "source": [
    "X"
   ]
  },
  {
   "cell_type": "code",
   "execution_count": null,
   "metadata": {},
   "outputs": [],
   "source": [
    "y"
   ]
  },
  {
   "cell_type": "code",
   "execution_count": 3,
   "metadata": {},
   "outputs": [],
   "source": [
    "Eco_Table = pd.read_csv(\"Eco_toysample_input.csv\")"
   ]
  },
  {
   "cell_type": "code",
   "execution_count": 4,
   "metadata": {
    "scrolled": true
   },
   "outputs": [
    {
     "data": {
      "text/plain": [
       "<bound method NDFrame.head of       gene_name       AAA       AAC       AAG       AAT       ACA       ACC  \\\n",
       "0      ACB04280  0.040816  0.026531  0.014286  0.014286  0.014286  0.014286   \n",
       "1      ACB04414  0.032258  0.023041  0.023041  0.018433  0.018433  0.009217   \n",
       "2      ACB02404  0.032823  0.013129  0.013129  0.019694  0.010941  0.010941   \n",
       "3      ACB04551  0.034787  0.025478  0.018128  0.009309  0.011759  0.015679   \n",
       "4      ACB05300  0.031461  0.031461  0.013483  0.008989  0.013483  0.011236   \n",
       "...         ...       ...       ...       ...       ...       ...       ...   \n",
       "24291  BAI30354  0.026110  0.022193  0.016971  0.015666  0.011749  0.011749   \n",
       "24292  BAI32247  0.029412  0.020362  0.015837  0.029412  0.022624  0.011312   \n",
       "24293  BAI32097  0.007614  0.002538  0.010152  0.010152  0.000000  0.010152   \n",
       "24294  BAI32498  0.039634  0.018293  0.003049  0.009146  0.009146  0.015244   \n",
       "24295  BAI29341  0.044898  0.014286  0.022449  0.032653  0.024490  0.006122   \n",
       "\n",
       "            ACG       ACT       AGA  ...       TCT       TGA       TGC  \\\n",
       "0      0.016327  0.020408  0.012245  ...  0.012245  0.012245  0.018367   \n",
       "1      0.027650  0.004608  0.013825  ...  0.004608  0.027650  0.018433   \n",
       "2      0.017505  0.006565  0.010941  ...  0.008753  0.021882  0.028446   \n",
       "3      0.015189  0.016169  0.011269  ...  0.014209  0.018128  0.023518   \n",
       "4      0.038202  0.013483  0.002247  ...  0.006742  0.015730  0.020225   \n",
       "...         ...       ...       ...  ...       ...       ...       ...   \n",
       "24291  0.022193  0.010444  0.009138  ...  0.011749  0.010444  0.023499   \n",
       "24292  0.002262  0.018100  0.015837  ...  0.015837  0.011312  0.018100   \n",
       "24293  0.005076  0.007614  0.005076  ...  0.012690  0.012690  0.017766   \n",
       "24294  0.015244  0.012195  0.012195  ...  0.018293  0.024390  0.018293   \n",
       "24295  0.002041  0.006122  0.022449  ...  0.012245  0.022449  0.012245   \n",
       "\n",
       "            TGG       TGT       TTA       TTC       TTG       TTT  hgt_class  \n",
       "0      0.026531  0.010204  0.012245  0.010204  0.008163  0.020408          1  \n",
       "1      0.023041  0.013825  0.018433  0.009217  0.018433  0.013825          1  \n",
       "2      0.026258  0.028446  0.015317  0.006565  0.043764  0.032823          1  \n",
       "3      0.025968  0.009799  0.009309  0.015189  0.011759  0.014699          1  \n",
       "4      0.024719  0.006742  0.017978  0.015730  0.017978  0.017978          1  \n",
       "...         ...       ...       ...       ...       ...       ...        ...  \n",
       "24291  0.022193  0.009138  0.016971  0.007833  0.018277  0.016971          0  \n",
       "24292  0.015837  0.009050  0.038462  0.020362  0.011312  0.015837          0  \n",
       "24293  0.040609  0.020305  0.025381  0.015228  0.022843  0.045685          0  \n",
       "24294  0.018293  0.024390  0.015244  0.024390  0.009146  0.015244          0  \n",
       "24295  0.026531  0.020408  0.032653  0.006122  0.020408  0.069388          0  \n",
       "\n",
       "[24296 rows x 66 columns]>"
      ]
     },
     "execution_count": 4,
     "metadata": {},
     "output_type": "execute_result"
    }
   ],
   "source": [
    "Eco_Table.head"
   ]
  },
  {
   "cell_type": "code",
   "execution_count": 5,
   "metadata": {
    "scrolled": true
   },
   "outputs": [],
   "source": [
    "X = Eco_Table[list(Eco_Table.columns)[1:-1]]\n",
    "y = Eco_Table[list(Eco_Table.columns)[-1]]"
   ]
  },
  {
   "cell_type": "code",
   "execution_count": 6,
   "metadata": {},
   "outputs": [],
   "source": [
    "X = X.to_numpy()\n",
    "y = y.to_numpy()"
   ]
  },
  {
   "cell_type": "code",
   "execution_count": 7,
   "metadata": {},
   "outputs": [
    {
     "data": {
      "text/plain": [
       "array([[0.04081633, 0.02653061, 0.01428571, ..., 0.01020408, 0.00816327,\n",
       "        0.02040816],\n",
       "       [0.03225806, 0.02304147, 0.02304147, ..., 0.00921659, 0.01843318,\n",
       "        0.01382488],\n",
       "       [0.03282276, 0.0131291 , 0.0131291 , ..., 0.00656455, 0.04376368,\n",
       "        0.03282276],\n",
       "       ...,\n",
       "       [0.00761421, 0.00253807, 0.01015228, ..., 0.01522843, 0.02284264,\n",
       "        0.04568528],\n",
       "       [0.03963415, 0.01829268, 0.00304878, ..., 0.02439024, 0.00914634,\n",
       "        0.0152439 ],\n",
       "       [0.04489796, 0.01428571, 0.02244898, ..., 0.00612245, 0.02040816,\n",
       "        0.06938776]])"
      ]
     },
     "execution_count": 7,
     "metadata": {},
     "output_type": "execute_result"
    }
   ],
   "source": [
    "X"
   ]
  },
  {
   "cell_type": "code",
   "execution_count": 8,
   "metadata": {},
   "outputs": [
    {
     "data": {
      "text/plain": [
       "(24296, 64)"
      ]
     },
     "execution_count": 8,
     "metadata": {},
     "output_type": "execute_result"
    }
   ],
   "source": [
    "X.shape"
   ]
  },
  {
   "cell_type": "code",
   "execution_count": 9,
   "metadata": {},
   "outputs": [
    {
     "data": {
      "text/plain": [
       "array([1, 1, 1, ..., 0, 0, 0])"
      ]
     },
     "execution_count": 9,
     "metadata": {},
     "output_type": "execute_result"
    }
   ],
   "source": [
    "y"
   ]
  },
  {
   "cell_type": "code",
   "execution_count": 10,
   "metadata": {},
   "outputs": [
    {
     "data": {
      "text/plain": [
       "(24296,)"
      ]
     },
     "execution_count": 10,
     "metadata": {},
     "output_type": "execute_result"
    }
   ],
   "source": [
    "y.shape"
   ]
  },
  {
   "cell_type": "code",
   "execution_count": 11,
   "metadata": {},
   "outputs": [],
   "source": [
    "X_train, X_test, y_train, y_test = train_test_split(X, y, random_state=42)"
   ]
  },
  {
   "cell_type": "code",
   "execution_count": 20,
   "metadata": {},
   "outputs": [
    {
     "data": {
      "text/plain": [
       "LogisticRegression(C=1.0, class_weight=None, dual=False, fit_intercept=True,\n",
       "                   intercept_scaling=1, l1_ratio=None, max_iter=100,\n",
       "                   multi_class='auto', n_jobs=None, penalty='l2',\n",
       "                   random_state=None, solver='lbfgs', tol=0.0001, verbose=0,\n",
       "                   warm_start=False)"
      ]
     },
     "execution_count": 20,
     "metadata": {},
     "output_type": "execute_result"
    }
   ],
   "source": [
    "logreg = LogisticRegression()\n",
    "logreg.fit(X_train, y_train)"
   ]
  },
  {
   "cell_type": "code",
   "execution_count": 21,
   "metadata": {},
   "outputs": [
    {
     "name": "stdout",
     "output_type": "stream",
     "text": [
      "Accuracy of Logistic regression classifier on training set: 0.56\n",
      "Accuracy of Logistic regression classifier on test set: 0.56\n"
     ]
    }
   ],
   "source": [
    "print('Accuracy of Logistic regression classifier on training set: {:.2f}'\n",
    "     .format(logreg.score(X_train, y_train)))\n",
    "print('Accuracy of Logistic regression classifier on test set: {:.2f}'\n",
    "     .format(logreg.score(X_test, y_test)))"
   ]
  },
  {
   "cell_type": "code",
   "execution_count": 14,
   "metadata": {},
   "outputs": [
    {
     "name": "stdout",
     "output_type": "stream",
     "text": [
      "Accuracy of Decision Tree classifier on training set: 0.96\n",
      "Accuracy of Decision Tree classifier on test set: 0.62\n"
     ]
    }
   ],
   "source": [
    "clf = DecisionTreeClassifier().fit(X_train, y_train)\n",
    "print('Accuracy of Decision Tree classifier on training set: {:.2f}'\n",
    "     .format(clf.score(X_train, y_train)))\n",
    "print('Accuracy of Decision Tree classifier on test set: {:.2f}'\n",
    "     .format(clf.score(X_test, y_test)))"
   ]
  },
  {
   "cell_type": "code",
   "execution_count": 15,
   "metadata": {},
   "outputs": [
    {
     "name": "stdout",
     "output_type": "stream",
     "text": [
      "Accuracy of K-NN classifier on training set: 0.79\n",
      "Accuracy of K-NN classifier on test set: 0.68\n"
     ]
    }
   ],
   "source": [
    "knn = KNeighborsClassifier()\n",
    "knn.fit(X_train, y_train)\n",
    "print('Accuracy of K-NN classifier on training set: {:.2f}'\n",
    "     .format(knn.score(X_train, y_train)))\n",
    "print('Accuracy of K-NN classifier on test set: {:.2f}'\n",
    "     .format(knn.score(X_test, y_test)))"
   ]
  },
  {
   "cell_type": "code",
   "execution_count": 16,
   "metadata": {},
   "outputs": [
    {
     "name": "stdout",
     "output_type": "stream",
     "text": [
      "Accuracy of LDA classifier on training set: 0.60\n",
      "Accuracy of LDA classifier on test set: 0.59\n"
     ]
    }
   ],
   "source": [
    "lda = LinearDiscriminantAnalysis()\n",
    "lda.fit(X_train, y_train)\n",
    "print('Accuracy of LDA classifier on training set: {:.2f}'\n",
    "     .format(lda.score(X_train, y_train)))\n",
    "print('Accuracy of LDA classifier on test set: {:.2f}'\n",
    "     .format(lda.score(X_test, y_test)))"
   ]
  },
  {
   "cell_type": "code",
   "execution_count": 17,
   "metadata": {},
   "outputs": [
    {
     "name": "stdout",
     "output_type": "stream",
     "text": [
      "Accuracy of GNB classifier on training set: 0.58\n",
      "Accuracy of GNB classifier on test set: 0.58\n"
     ]
    }
   ],
   "source": [
    "gnb = GaussianNB()\n",
    "gnb.fit(X_train, y_train)\n",
    "print('Accuracy of GNB classifier on training set: {:.2f}'\n",
    "     .format(gnb.score(X_train, y_train)))\n",
    "print('Accuracy of GNB classifier on test set: {:.2f}'\n",
    "     .format(gnb.score(X_test, y_test)))"
   ]
  },
  {
   "cell_type": "code",
   "execution_count": 18,
   "metadata": {},
   "outputs": [
    {
     "name": "stdout",
     "output_type": "stream",
     "text": [
      "Accuracy of SVM classifier on training set: 0.70\n",
      "Accuracy of SVM classifier on test set: 0.64\n"
     ]
    }
   ],
   "source": [
    "svm = SVC()\n",
    "svm.fit(X_train, y_train)\n",
    "print('Accuracy of SVM classifier on training set: {:.2f}'\n",
    "     .format(svm.score(X_train, y_train)))\n",
    "print('Accuracy of SVM classifier on test set: {:.2f}'\n",
    "     .format(svm.score(X_test, y_test)))"
   ]
  },
  {
   "cell_type": "code",
   "execution_count": 1,
   "metadata": {},
   "outputs": [
    {
     "name": "stderr",
     "output_type": "stream",
     "text": [
      "/usr/local/lib/python3.7/dist-packages/tensorflow/python/framework/dtypes.py:516: FutureWarning: Passing (type, 1) or '1type' as a synonym of type is deprecated; in a future version of numpy, it will be understood as (type, (1,)) / '(1,)type'.\n",
      "  _np_qint8 = np.dtype([(\"qint8\", np.int8, 1)])\n",
      "/usr/local/lib/python3.7/dist-packages/tensorflow/python/framework/dtypes.py:517: FutureWarning: Passing (type, 1) or '1type' as a synonym of type is deprecated; in a future version of numpy, it will be understood as (type, (1,)) / '(1,)type'.\n",
      "  _np_quint8 = np.dtype([(\"quint8\", np.uint8, 1)])\n",
      "/usr/local/lib/python3.7/dist-packages/tensorflow/python/framework/dtypes.py:518: FutureWarning: Passing (type, 1) or '1type' as a synonym of type is deprecated; in a future version of numpy, it will be understood as (type, (1,)) / '(1,)type'.\n",
      "  _np_qint16 = np.dtype([(\"qint16\", np.int16, 1)])\n",
      "/usr/local/lib/python3.7/dist-packages/tensorflow/python/framework/dtypes.py:519: FutureWarning: Passing (type, 1) or '1type' as a synonym of type is deprecated; in a future version of numpy, it will be understood as (type, (1,)) / '(1,)type'.\n",
      "  _np_quint16 = np.dtype([(\"quint16\", np.uint16, 1)])\n",
      "/usr/local/lib/python3.7/dist-packages/tensorflow/python/framework/dtypes.py:520: FutureWarning: Passing (type, 1) or '1type' as a synonym of type is deprecated; in a future version of numpy, it will be understood as (type, (1,)) / '(1,)type'.\n",
      "  _np_qint32 = np.dtype([(\"qint32\", np.int32, 1)])\n",
      "/usr/local/lib/python3.7/dist-packages/tensorflow/python/framework/dtypes.py:525: FutureWarning: Passing (type, 1) or '1type' as a synonym of type is deprecated; in a future version of numpy, it will be understood as (type, (1,)) / '(1,)type'.\n",
      "  np_resource = np.dtype([(\"resource\", np.ubyte, 1)])\n",
      "/usr/local/lib/python3.7/dist-packages/tensorboard/compat/tensorflow_stub/dtypes.py:541: FutureWarning: Passing (type, 1) or '1type' as a synonym of type is deprecated; in a future version of numpy, it will be understood as (type, (1,)) / '(1,)type'.\n",
      "  _np_qint8 = np.dtype([(\"qint8\", np.int8, 1)])\n",
      "/usr/local/lib/python3.7/dist-packages/tensorboard/compat/tensorflow_stub/dtypes.py:542: FutureWarning: Passing (type, 1) or '1type' as a synonym of type is deprecated; in a future version of numpy, it will be understood as (type, (1,)) / '(1,)type'.\n",
      "  _np_quint8 = np.dtype([(\"quint8\", np.uint8, 1)])\n",
      "/usr/local/lib/python3.7/dist-packages/tensorboard/compat/tensorflow_stub/dtypes.py:543: FutureWarning: Passing (type, 1) or '1type' as a synonym of type is deprecated; in a future version of numpy, it will be understood as (type, (1,)) / '(1,)type'.\n",
      "  _np_qint16 = np.dtype([(\"qint16\", np.int16, 1)])\n",
      "/usr/local/lib/python3.7/dist-packages/tensorboard/compat/tensorflow_stub/dtypes.py:544: FutureWarning: Passing (type, 1) or '1type' as a synonym of type is deprecated; in a future version of numpy, it will be understood as (type, (1,)) / '(1,)type'.\n",
      "  _np_quint16 = np.dtype([(\"quint16\", np.uint16, 1)])\n",
      "/usr/local/lib/python3.7/dist-packages/tensorboard/compat/tensorflow_stub/dtypes.py:545: FutureWarning: Passing (type, 1) or '1type' as a synonym of type is deprecated; in a future version of numpy, it will be understood as (type, (1,)) / '(1,)type'.\n",
      "  _np_qint32 = np.dtype([(\"qint32\", np.int32, 1)])\n",
      "/usr/local/lib/python3.7/dist-packages/tensorboard/compat/tensorflow_stub/dtypes.py:550: FutureWarning: Passing (type, 1) or '1type' as a synonym of type is deprecated; in a future version of numpy, it will be understood as (type, (1,)) / '(1,)type'.\n",
      "  np_resource = np.dtype([(\"resource\", np.ubyte, 1)])\n"
     ]
    }
   ],
   "source": [
    "import tensorflow as tf\n",
    "from tensorflow import keras"
   ]
  },
  {
   "cell_type": "code",
   "execution_count": 30,
   "metadata": {},
   "outputs": [],
   "source": [
    "model = keras.Sequential([\n",
    "    keras.layers.Dense(40, activation='relu'),\n",
    "    keras.layers.Dense(20, activation='relu'),\n",
    "    keras.layers.Dense(10, activation='relu'),\n",
    "    keras.layers.Dense(5, activation='relu'),\n",
    "    keras.layers.Dense(2, activation='softmax')\n",
    "])"
   ]
  },
  {
   "cell_type": "code",
   "execution_count": 31,
   "metadata": {},
   "outputs": [],
   "source": [
    "model.compile(optimizer='adam',\n",
    "              loss='sparse_categorical_crossentropy',\n",
    "              metrics=['accuracy'])"
   ]
  },
  {
   "cell_type": "code",
   "execution_count": 32,
   "metadata": {
    "scrolled": true
   },
   "outputs": [
    {
     "name": "stdout",
     "output_type": "stream",
     "text": [
      "Epoch 1/100\n",
      "18222/18222 [==============================] - 1s 58us/sample - loss: 0.6930 - acc: 0.5055\n",
      "Epoch 2/100\n",
      "18222/18222 [==============================] - 1s 51us/sample - loss: 0.6929 - acc: 0.5080\n",
      "Epoch 3/100\n",
      "18222/18222 [==============================] - 1s 51us/sample - loss: 0.6908 - acc: 0.5255\n",
      "Epoch 4/100\n",
      "18222/18222 [==============================] - 1s 50us/sample - loss: 0.6865 - acc: 0.5470\n",
      "Epoch 5/100\n",
      "18222/18222 [==============================] - 1s 53us/sample - loss: 0.6852 - acc: 0.5533\n",
      "Epoch 6/100\n",
      "18222/18222 [==============================] - 1s 51us/sample - loss: 0.6827 - acc: 0.5615\n",
      "Epoch 7/100\n",
      "18222/18222 [==============================] - 1s 51us/sample - loss: 0.6826 - acc: 0.5586\n",
      "Epoch 8/100\n",
      "18222/18222 [==============================] - 1s 51us/sample - loss: 0.6825 - acc: 0.5597\n",
      "Epoch 9/100\n",
      "18222/18222 [==============================] - 1s 52us/sample - loss: 0.6819 - acc: 0.5585\n",
      "Epoch 10/100\n",
      "18222/18222 [==============================] - 1s 51us/sample - loss: 0.6808 - acc: 0.5627\n",
      "Epoch 11/100\n",
      "18222/18222 [==============================] - 1s 54us/sample - loss: 0.6804 - acc: 0.5627\n",
      "Epoch 12/100\n",
      "18222/18222 [==============================] - 1s 52us/sample - loss: 0.6808 - acc: 0.5637\n",
      "Epoch 13/100\n",
      "18222/18222 [==============================] - 1s 52us/sample - loss: 0.6797 - acc: 0.5645\n",
      "Epoch 14/100\n",
      "18222/18222 [==============================] - 1s 51us/sample - loss: 0.6788 - acc: 0.5679\n",
      "Epoch 15/100\n",
      "18222/18222 [==============================] - 1s 51us/sample - loss: 0.6776 - acc: 0.5711\n",
      "Epoch 16/100\n",
      "18222/18222 [==============================] - 1s 52us/sample - loss: 0.6767 - acc: 0.5722\n",
      "Epoch 17/100\n",
      "18222/18222 [==============================] - 1s 53us/sample - loss: 0.6764 - acc: 0.5704\n",
      "Epoch 18/100\n",
      "18222/18222 [==============================] - 1s 53us/sample - loss: 0.6753 - acc: 0.5751\n",
      "Epoch 19/100\n",
      "18222/18222 [==============================] - 1s 53us/sample - loss: 0.6744 - acc: 0.5761\n",
      "Epoch 20/100\n",
      "18222/18222 [==============================] - 1s 54us/sample - loss: 0.6728 - acc: 0.5828\n",
      "Epoch 21/100\n",
      "18222/18222 [==============================] - 1s 53us/sample - loss: 0.6724 - acc: 0.5824\n",
      "Epoch 22/100\n",
      "18222/18222 [==============================] - 1s 53us/sample - loss: 0.6720 - acc: 0.5822\n",
      "Epoch 23/100\n",
      "18222/18222 [==============================] - 1s 53us/sample - loss: 0.6714 - acc: 0.5837\n",
      "Epoch 24/100\n",
      "18222/18222 [==============================] - 1s 53us/sample - loss: 0.6702 - acc: 0.5858\n",
      "Epoch 25/100\n",
      "18222/18222 [==============================] - 1s 53us/sample - loss: 0.6692 - acc: 0.5918\n",
      "Epoch 26/100\n",
      "18222/18222 [==============================] - 1s 52us/sample - loss: 0.6692 - acc: 0.5875\n",
      "Epoch 27/100\n",
      "18222/18222 [==============================] - 1s 55us/sample - loss: 0.6688 - acc: 0.5889\n",
      "Epoch 28/100\n",
      "18222/18222 [==============================] - 1s 55us/sample - loss: 0.6675 - acc: 0.5949\n",
      "Epoch 29/100\n",
      "18222/18222 [==============================] - 1s 55us/sample - loss: 0.6658 - acc: 0.5942\n",
      "Epoch 30/100\n",
      "18222/18222 [==============================] - 1s 55us/sample - loss: 0.6653 - acc: 0.5945\n",
      "Epoch 31/100\n",
      "18222/18222 [==============================] - 1s 54us/sample - loss: 0.6644 - acc: 0.5986\n",
      "Epoch 32/100\n",
      "18222/18222 [==============================] - 1s 54us/sample - loss: 0.6631 - acc: 0.5955\n",
      "Epoch 33/100\n",
      "18222/18222 [==============================] - 1s 54us/sample - loss: 0.6633 - acc: 0.5972\n",
      "Epoch 34/100\n",
      "18222/18222 [==============================] - 1s 54us/sample - loss: 0.6621 - acc: 0.6023\n",
      "Epoch 35/100\n",
      "18222/18222 [==============================] - 1s 53us/sample - loss: 0.6610 - acc: 0.6040\n",
      "Epoch 36/100\n",
      "18222/18222 [==============================] - 1s 56us/sample - loss: 0.6601 - acc: 0.6013\n",
      "Epoch 37/100\n",
      "18222/18222 [==============================] - 1s 56us/sample - loss: 0.6599 - acc: 0.6045\n",
      "Epoch 38/100\n",
      "18222/18222 [==============================] - 1s 59us/sample - loss: 0.6587 - acc: 0.6080\n",
      "Epoch 39/100\n",
      "18222/18222 [==============================] - 1s 57us/sample - loss: 0.6578 - acc: 0.6065\n",
      "Epoch 40/100\n",
      "18222/18222 [==============================] - 1s 54us/sample - loss: 0.6574 - acc: 0.6082\n",
      "Epoch 41/100\n",
      "18222/18222 [==============================] - 1s 55us/sample - loss: 0.6570 - acc: 0.6086\n",
      "Epoch 42/100\n",
      "18222/18222 [==============================] - 1s 56us/sample - loss: 0.6552 - acc: 0.6122\n",
      "Epoch 43/100\n",
      "18222/18222 [==============================] - 1s 55us/sample - loss: 0.6554 - acc: 0.6111\n",
      "Epoch 44/100\n",
      "18222/18222 [==============================] - 1s 55us/sample - loss: 0.6535 - acc: 0.6130\n",
      "Epoch 45/100\n",
      "18222/18222 [==============================] - 1s 55us/sample - loss: 0.6534 - acc: 0.6139\n",
      "Epoch 46/100\n",
      "18222/18222 [==============================] - 1s 55us/sample - loss: 0.6530 - acc: 0.6149\n",
      "Epoch 47/100\n",
      "18222/18222 [==============================] - 1s 56us/sample - loss: 0.6528 - acc: 0.6193\n",
      "Epoch 48/100\n",
      "18222/18222 [==============================] - 1s 57us/sample - loss: 0.6515 - acc: 0.6140\n",
      "Epoch 49/100\n",
      "18222/18222 [==============================] - 1s 55us/sample - loss: 0.6502 - acc: 0.6188\n",
      "Epoch 50/100\n",
      "18222/18222 [==============================] - 1s 56us/sample - loss: 0.6508 - acc: 0.6180\n",
      "Epoch 51/100\n",
      "18222/18222 [==============================] - 1s 55us/sample - loss: 0.6493 - acc: 0.6205\n",
      "Epoch 52/100\n",
      "18222/18222 [==============================] - 1s 55us/sample - loss: 0.6495 - acc: 0.6175\n",
      "Epoch 53/100\n",
      "18222/18222 [==============================] - 1s 56us/sample - loss: 0.6484 - acc: 0.6176\n",
      "Epoch 54/100\n",
      "18222/18222 [==============================] - 1s 55us/sample - loss: 0.6479 - acc: 0.6183\n",
      "Epoch 55/100\n",
      "18222/18222 [==============================] - 1s 55us/sample - loss: 0.6474 - acc: 0.6185\n",
      "Epoch 56/100\n",
      "18222/18222 [==============================] - 1s 55us/sample - loss: 0.6473 - acc: 0.6188\n",
      "Epoch 57/100\n",
      "18222/18222 [==============================] - 1s 57us/sample - loss: 0.6447 - acc: 0.6224\n",
      "Epoch 58/100\n",
      "18222/18222 [==============================] - 1s 55us/sample - loss: 0.6442 - acc: 0.6247\n",
      "Epoch 59/100\n",
      "18222/18222 [==============================] - 1s 55us/sample - loss: 0.6452 - acc: 0.6244\n",
      "Epoch 60/100\n",
      "18222/18222 [==============================] - 1s 56us/sample - loss: 0.6427 - acc: 0.6284\n",
      "Epoch 61/100\n",
      "18222/18222 [==============================] - 1s 56us/sample - loss: 0.6428 - acc: 0.6282\n",
      "Epoch 62/100\n",
      "18222/18222 [==============================] - 1s 56us/sample - loss: 0.6431 - acc: 0.6232\n",
      "Epoch 63/100\n",
      "18222/18222 [==============================] - 1s 55us/sample - loss: 0.6415 - acc: 0.6269\n",
      "Epoch 64/100\n",
      "18222/18222 [==============================] - 1s 55us/sample - loss: 0.6413 - acc: 0.6277\n",
      "Epoch 65/100\n",
      "18222/18222 [==============================] - 1s 56us/sample - loss: 0.6395 - acc: 0.6290\n",
      "Epoch 66/100\n",
      "18222/18222 [==============================] - 1s 55us/sample - loss: 0.6391 - acc: 0.6302\n",
      "Epoch 67/100\n",
      "18222/18222 [==============================] - 1s 55us/sample - loss: 0.6395 - acc: 0.6323\n",
      "Epoch 68/100\n",
      "18222/18222 [==============================] - 1s 55us/sample - loss: 0.6382 - acc: 0.6341\n",
      "Epoch 69/100\n",
      "18222/18222 [==============================] - 1s 55us/sample - loss: 0.6368 - acc: 0.6353\n",
      "Epoch 70/100\n",
      "18222/18222 [==============================] - 1s 55us/sample - loss: 0.6367 - acc: 0.6323\n",
      "Epoch 71/100\n",
      "18222/18222 [==============================] - 1s 55us/sample - loss: 0.6358 - acc: 0.6335\n",
      "Epoch 72/100\n",
      "18222/18222 [==============================] - 1s 54us/sample - loss: 0.6360 - acc: 0.6337\n",
      "Epoch 73/100\n",
      "18222/18222 [==============================] - 1s 55us/sample - loss: 0.6341 - acc: 0.6413\n",
      "Epoch 74/100\n",
      "18222/18222 [==============================] - 1s 55us/sample - loss: 0.6353 - acc: 0.6331\n",
      "Epoch 75/100\n",
      "18222/18222 [==============================] - 1s 55us/sample - loss: 0.6329 - acc: 0.6401\n",
      "Epoch 76/100\n",
      "18222/18222 [==============================] - 1s 56us/sample - loss: 0.6339 - acc: 0.6394\n",
      "Epoch 77/100\n",
      "18222/18222 [==============================] - 1s 55us/sample - loss: 0.6311 - acc: 0.6442\n",
      "Epoch 78/100\n",
      "18222/18222 [==============================] - 1s 54us/sample - loss: 0.6312 - acc: 0.6413\n",
      "Epoch 79/100\n",
      "18222/18222 [==============================] - 1s 54us/sample - loss: 0.6315 - acc: 0.6407\n",
      "Epoch 80/100\n",
      "18222/18222 [==============================] - 1s 54us/sample - loss: 0.6314 - acc: 0.6392\n",
      "Epoch 81/100\n",
      "18222/18222 [==============================] - 1s 54us/sample - loss: 0.6294 - acc: 0.6469\n",
      "Epoch 82/100\n",
      "18222/18222 [==============================] - 1s 54us/sample - loss: 0.6303 - acc: 0.6415\n",
      "Epoch 83/100\n",
      "18222/18222 [==============================] - 1s 54us/sample - loss: 0.6292 - acc: 0.6450\n",
      "Epoch 84/100\n",
      "18222/18222 [==============================] - 1s 57us/sample - loss: 0.6289 - acc: 0.6442\n",
      "Epoch 85/100\n",
      "18222/18222 [==============================] - 1s 54us/sample - loss: 0.6278 - acc: 0.6468\n",
      "Epoch 86/100\n",
      "18222/18222 [==============================] - 1s 53us/sample - loss: 0.6272 - acc: 0.6474\n",
      "Epoch 87/100\n",
      "18222/18222 [==============================] - 1s 55us/sample - loss: 0.6269 - acc: 0.6489\n",
      "Epoch 88/100\n",
      "18222/18222 [==============================] - 1s 55us/sample - loss: 0.6268 - acc: 0.6461\n",
      "Epoch 89/100\n",
      "18222/18222 [==============================] - 1s 57us/sample - loss: 0.6248 - acc: 0.6497\n",
      "Epoch 90/100\n",
      "18222/18222 [==============================] - 1s 55us/sample - loss: 0.6241 - acc: 0.6470\n",
      "Epoch 91/100\n",
      "18222/18222 [==============================] - 1s 56us/sample - loss: 0.6237 - acc: 0.6499\n",
      "Epoch 92/100\n",
      "18222/18222 [==============================] - 1s 55us/sample - loss: 0.6252 - acc: 0.6482\n",
      "Epoch 93/100\n",
      "18222/18222 [==============================] - 1s 54us/sample - loss: 0.6242 - acc: 0.6493\n",
      "Epoch 94/100\n",
      "18222/18222 [==============================] - 1s 54us/sample - loss: 0.6237 - acc: 0.6502\n",
      "Epoch 95/100\n",
      "18222/18222 [==============================] - 1s 54us/sample - loss: 0.6228 - acc: 0.6511\n",
      "Epoch 96/100\n",
      "18222/18222 [==============================] - 1s 55us/sample - loss: 0.6212 - acc: 0.6537\n",
      "Epoch 97/100\n",
      "18222/18222 [==============================] - 1s 54us/sample - loss: 0.6220 - acc: 0.6528\n",
      "Epoch 98/100\n",
      "18222/18222 [==============================] - 1s 52us/sample - loss: 0.6198 - acc: 0.6551\n",
      "Epoch 99/100\n",
      "18222/18222 [==============================] - 1s 53us/sample - loss: 0.6199 - acc: 0.6536\n",
      "Epoch 100/100\n",
      "18222/18222 [==============================] - 1s 53us/sample - loss: 0.6188 - acc: 0.6542\n"
     ]
    },
    {
     "data": {
      "text/plain": [
       "<tensorflow.python.keras.callbacks.History at 0x7f8358153f10>"
      ]
     },
     "execution_count": 32,
     "metadata": {},
     "output_type": "execute_result"
    }
   ],
   "source": [
    "model.fit(X_train, y_train, epochs=100)"
   ]
  },
  {
   "cell_type": "code",
   "execution_count": 33,
   "metadata": {},
   "outputs": [
    {
     "name": "stdout",
     "output_type": "stream",
     "text": [
      "6074/6074 - 0s - loss: 0.6580 - acc: 0.6162\n",
      "\n",
      "테스트 정확도: 0.6162331\n"
     ]
    }
   ],
   "source": [
    "test_loss, test_acc = model.evaluate(X_test,  y_test, verbose=2)\n",
    "\n",
    "print('\\n테스트 정확도:', test_acc)"
   ]
  },
  {
   "cell_type": "code",
   "execution_count": 2,
   "metadata": {},
   "outputs": [
    {
     "data": {
      "text/plain": [
       "False"
      ]
     },
     "execution_count": 2,
     "metadata": {},
     "output_type": "execute_result"
    }
   ],
   "source": [
    "tf.test.is_gpu_available(\n",
    "    cuda_only=False, min_cuda_compute_capability=None\n",
    ")"
   ]
  },
  {
   "cell_type": "code",
   "execution_count": 35,
   "metadata": {},
   "outputs": [
    {
     "data": {
      "text/plain": [
       "''"
      ]
     },
     "execution_count": 35,
     "metadata": {},
     "output_type": "execute_result"
    }
   ],
   "source": [
    "tf.test.gpu_device_name()"
   ]
  },
  {
   "cell_type": "code",
   "execution_count": null,
   "metadata": {},
   "outputs": [],
   "source": []
  },
  {
   "cell_type": "code",
   "execution_count": null,
   "metadata": {},
   "outputs": [],
   "source": []
  },
  {
   "cell_type": "code",
   "execution_count": null,
   "metadata": {},
   "outputs": [],
   "source": []
  },
  {
   "cell_type": "code",
   "execution_count": null,
   "metadata": {},
   "outputs": [],
   "source": []
  },
  {
   "cell_type": "code",
   "execution_count": null,
   "metadata": {},
   "outputs": [],
   "source": [
    "h = .02  # step size in the mesh\n",
    "\n",
    "names = [\"Nearest Neighbors\", \"Linear SVM\", \"RBF SVM\", \"Gaussian Process\",\n",
    "         \"Decision Tree\", \"Random Forest\", \"Neural Net\", \"AdaBoost\",\n",
    "         \"Naive Bayes\", \"QDA\"]\n",
    "\n",
    "classifiers = [\n",
    "    KNeighborsClassifier(3),\n",
    "    SVC(kernel=\"linear\", C=0.025),\n",
    "    SVC(gamma=2, C=1),\n",
    "    GaussianProcessClassifier(1.0 * RBF(1.0)),\n",
    "    DecisionTreeClassifier(max_depth=5),\n",
    "    RandomForestClassifier(max_depth=5, n_estimators=10, max_features=1),\n",
    "    MLPClassifier(alpha=1, max_iter=1000),\n",
    "    AdaBoostClassifier(),\n",
    "    GaussianNB(),\n",
    "    QuadraticDiscriminantAnalysis()]\n",
    "\n",
    "datasets = [(X, y)]\n",
    "\n",
    "figure = plt.figure(figsize=(27, 9))\n",
    "i = 1\n",
    "# iterate over datasets\n",
    "for ds_cnt, ds in enumerate(datasets):\n",
    "    # preprocess dataset, split into training and test part\n",
    "    X, y = ds\n",
    "    X = StandardScaler().fit_transform(X)\n",
    "    X_train, X_test, y_train, y_test = \\\n",
    "        train_test_split(X, y, test_size=.4, random_state=42)\n",
    "\n",
    "    x_min, x_max = X[:, 0].min() - .5, X[:, 0].max() + .5\n",
    "    y_min, y_max = X[:, 1].min() - .5, X[:, 1].max() + .5\n",
    "    xx, yy = np.meshgrid(np.arange(x_min, x_max, h),\n",
    "                         np.arange(y_min, y_max, h))\n",
    "\n",
    "    # just plot the dataset first\n",
    "    cm = plt.cm.RdBu\n",
    "    cm_bright = ListedColormap(['#FF0000', '#0000FF'])\n",
    "    ax = plt.subplot(len(datasets), len(classifiers) + 1, i)\n",
    "    if ds_cnt == 0:\n",
    "        ax.set_title(\"Input data\")\n",
    "    # Plot the training points\n",
    "    ax.scatter(X_train[:, 0], X_train[:, 1], c=y_train, cmap=cm_bright,\n",
    "               edgecolors='k')\n",
    "    # Plot the testing points\n",
    "    ax.scatter(X_test[:, 0], X_test[:, 1], c=y_test, cmap=cm_bright, alpha=0.6,\n",
    "               edgecolors='k')\n",
    "    ax.set_xlim(xx.min(), xx.max())\n",
    "    ax.set_ylim(yy.min(), yy.max())\n",
    "    ax.set_xticks(())\n",
    "    ax.set_yticks(())\n",
    "    i += 1\n",
    "\n",
    "    # iterate over classifiers\n",
    "    for name, clf in zip(names, classifiers):\n",
    "        ax = plt.subplot(len(datasets), len(classifiers) + 1, i)\n",
    "        clf.fit(X_train, y_train)\n",
    "        score = clf.score(X_test, y_test)\n",
    "\n",
    "        # Plot the decision boundary. For that, we will assign a color to each\n",
    "        # point in the mesh [x_min, x_max]x[y_min, y_max].\n",
    "        if hasattr(clf, \"decision_function\"):\n",
    "            Z = clf.decision_function(np.c_[xx.ravel(), yy.ravel()])\n",
    "        else:\n",
    "            Z = clf.predict_proba(np.c_[xx.ravel(), yy.ravel()])[:, 1]\n",
    "\n",
    "        # Put the result into a color plot\n",
    "        Z = Z.reshape(xx.shape)\n",
    "        ax.contourf(xx, yy, Z, cmap=cm, alpha=.8)\n",
    "\n",
    "        # Plot the training points\n",
    "        ax.scatter(X_train[:, 0], X_train[:, 1], c=y_train, cmap=cm_bright,\n",
    "                   edgecolors='k')\n",
    "        # Plot the testing points\n",
    "        ax.scatter(X_test[:, 0], X_test[:, 1], c=y_test, cmap=cm_bright,\n",
    "                   edgecolors='k', alpha=0.6)\n",
    "\n",
    "        ax.set_xlim(xx.min(), xx.max())\n",
    "        ax.set_ylim(yy.min(), yy.max())\n",
    "        ax.set_xticks(())\n",
    "        ax.set_yticks(())\n",
    "        if ds_cnt == 0:\n",
    "            ax.set_title(name)\n",
    "        ax.text(xx.max() - .3, yy.min() + .3, ('%.2f' % score).lstrip('0'),\n",
    "                size=15, horizontalalignment='right')\n",
    "        i += 1\n",
    "\n",
    "plt.tight_layout()\n",
    "plt.show()"
   ]
  }
 ],
 "metadata": {
  "kernelspec": {
   "display_name": "Python 2",
   "language": "python",
   "name": "python2"
  },
  "language_info": {
   "codemirror_mode": {
    "name": "ipython",
    "version": 2
   },
   "file_extension": ".py",
   "mimetype": "text/x-python",
   "name": "python",
   "nbconvert_exporter": "python",
   "pygments_lexer": "ipython2",
   "version": "2.7.15+"
  }
 },
 "nbformat": 4,
 "nbformat_minor": 4
}
